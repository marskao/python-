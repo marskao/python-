{
 "cells": [
  {
   "cell_type": "code",
   "execution_count": 2,
   "metadata": {},
   "outputs": [
    {
     "name": "stdout",
     "output_type": "stream",
     "text": [
      "Inventory:\n",
      "rope 1\n",
      "torch 6\n",
      "gold coin 42\n",
      "arraw 12\n",
      "Total number of items:61\n"
     ]
    }
   ],
   "source": [
    "stuff = {'rope':1, 'torch':6, 'gold coin':42, 'arraw':12}\n",
    "\n",
    "def displayInventory(inventory):\n",
    "    print(\"Inventory:\")\n",
    "    item_total = 0\n",
    "    for k,v in inventory.items():\n",
    "        item_total +=int(v)\n",
    "        print(k,v)\n",
    "    print(\"Total number of items:{}\".format(item_total))\n",
    "displayInventory(stuff)"
   ]
  },
  {
   "cell_type": "code",
   "execution_count": 6,
   "metadata": {},
   "outputs": [
    {
     "name": "stdout",
     "output_type": "stream",
     "text": [
      "Inventory:\n",
      "gold coin 45\n",
      "rope 1\n",
      "dagger 1\n",
      "ruby 1\n",
      "Total number of items:48\n"
     ]
    }
   ],
   "source": [
    "inv = {'gold coin':42, 'rope':1}\n",
    "dragonLoot=['gold coin','dagger','gold coin','gold coin', 'ruby']\n",
    "\n",
    "def addToInventory(inv,addeditems):\n",
    "    for i in dragonLoot:\n",
    "        if i in inv.keys():\n",
    "            inv[i]+=1\n",
    "        else:\n",
    "            inv[i]=1\n",
    "    return inv\n",
    "inv = addToInventory(inv,dragonLoot)\n",
    "displayInventory(inv)"
   ]
  },
  {
   "cell_type": "code",
   "execution_count": null,
   "metadata": {},
   "outputs": [],
   "source": []
  }
 ],
 "metadata": {
  "kernelspec": {
   "display_name": "Python 3",
   "language": "python",
   "name": "python3"
  },
  "language_info": {
   "codemirror_mode": {
    "name": "ipython",
    "version": 3
   },
   "file_extension": ".py",
   "mimetype": "text/x-python",
   "name": "python",
   "nbconvert_exporter": "python",
   "pygments_lexer": "ipython3",
   "version": "3.6.5"
  }
 },
 "nbformat": 4,
 "nbformat_minor": 2
}
