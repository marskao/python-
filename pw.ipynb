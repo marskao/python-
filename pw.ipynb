{
 "cells": [
  {
   "cell_type": "code",
   "execution_count": 51,
   "metadata": {},
   "outputs": [
    {
     "ename": "SyntaxError",
     "evalue": "invalid syntax (<ipython-input-51-aeb49f271ec5>, line 6)",
     "output_type": "error",
     "traceback": [
      "\u001b[1;36m  File \u001b[1;32m\"<ipython-input-51-aeb49f271ec5>\"\u001b[1;36m, line \u001b[1;32m6\u001b[0m\n\u001b[1;33m    'luggage : '12345'}\u001b[0m\n\u001b[1;37m                    ^\u001b[0m\n\u001b[1;31mSyntaxError\u001b[0m\u001b[1;31m:\u001b[0m invalid syntax\n"
     ]
    }
   ],
   "source": [
    "# pw.py - An insecure password locker program.\n",
    "import sys, pyperclip\n",
    "\n",
    "PASSWORDS = {'email':'F7minlBDD',\n",
    "             'blog':'Vmldder',\n",
    "            'luggage : '12345'}\n",
    "if len(sys.argv) < 2:\n",
    "    print(\"Usage: py pw.py [account] - copy account password\")\n",
    "    sys.exit()\n",
    "account = argv[1]\n",
    "if account in PASSWORDS:\n",
    "    pyperclip.copy(PASSWORDS[account])\n",
    "    print('password for {} copied to clipboard'.format(account))\n",
    "else:\n",
    "    print('There is no account name {}'.format(account))"
   ]
  },
  {
   "cell_type": "code",
   "execution_count": 52,
   "metadata": {},
   "outputs": [
    {
     "ename": "AttributeError",
     "evalue": "module 'pyperclip' has no attribute 'past'",
     "output_type": "error",
     "traceback": [
      "\u001b[1;31m---------------------------------------------------------------------------\u001b[0m",
      "\u001b[1;31mAttributeError\u001b[0m                            Traceback (most recent call last)",
      "\u001b[1;32m<ipython-input-52-36e08982c6c3>\u001b[0m in \u001b[0;36m<module>\u001b[1;34m()\u001b[0m\n\u001b[0;32m      2\u001b[0m \u001b[1;31m# of each line of text on the clipboard.\u001b[0m\u001b[1;33m\u001b[0m\u001b[1;33m\u001b[0m\u001b[0m\n\u001b[0;32m      3\u001b[0m \u001b[1;32mimport\u001b[0m \u001b[0mpyperclip\u001b[0m\u001b[1;33m\u001b[0m\u001b[0m\n\u001b[1;32m----> 4\u001b[1;33m \u001b[0mtext\u001b[0m \u001b[1;33m=\u001b[0m \u001b[0mpyperclip\u001b[0m\u001b[1;33m.\u001b[0m\u001b[0mpast\u001b[0m\u001b[1;33m(\u001b[0m\u001b[1;33m)\u001b[0m\u001b[1;33m\u001b[0m\u001b[0m\n\u001b[0m\u001b[0;32m      5\u001b[0m \u001b[1;31m#split strings\u001b[0m\u001b[1;33m\u001b[0m\u001b[1;33m\u001b[0m\u001b[0m\n\u001b[0;32m      6\u001b[0m \u001b[0mlines\u001b[0m \u001b[1;33m=\u001b[0m \u001b[0mtext\u001b[0m\u001b[1;33m.\u001b[0m\u001b[0msplit\u001b[0m\u001b[1;33m(\u001b[0m\u001b[1;34m'\\n'\u001b[0m\u001b[1;33m)\u001b[0m\u001b[1;33m\u001b[0m\u001b[0m\n",
      "\u001b[1;31mAttributeError\u001b[0m: module 'pyperclip' has no attribute 'past'"
     ]
    }
   ],
   "source": [
    "# bulletPointerAdder.py - Adds wikipedia bullet point to the start\n",
    "# of each line of text on the clipboard.\n",
    "import pyperclip\n",
    "text = pyperclip.past()\n",
    "#split strings\n",
    "lines = text.split('\\n')\n",
    "for i in range(len(lines)):\n",
    "    lines[i] = '* '+lines[i]\n",
    "text = \"\\n\".join(lines)\n",
    "pyperclip.copy(text)"
   ]
  },
  {
   "cell_type": "code",
   "execution_count": 53,
   "metadata": {},
   "outputs": [
    {
     "data": {
      "text/plain": [
       "'There-can-be-only-one.'"
      ]
     },
     "execution_count": 53,
     "metadata": {},
     "output_type": "execute_result"
    }
   ],
   "source": [
    "'-'.join('There can be only one.'.split())"
   ]
  },
  {
   "cell_type": "code",
   "execution_count": 61,
   "metadata": {},
   "outputs": [
    {
     "name": "stdout",
     "output_type": "stream",
     "text": [
      "[6, 5, 4]\n",
      "  apple Alice Dogs\n",
      " orange   Bob  Cat\n"
     ]
    }
   ],
   "source": [
    "tableData = [['apple','orange'],\n",
    "             ['Alice','Bob'],\n",
    "             ['Dogs','Cat']]\n",
    "\n",
    "def printTable(data):\n",
    "    col_width = [0]*len(data) #cal max length\n",
    "    #找出每一列的最大長度\n",
    "    for i in range(len(data)):\n",
    "        max_col = 0\n",
    "        for j in range(len(data[0])):\n",
    "            max_col = max(max_col,len(data[i][j]))\n",
    "        col_width[i] = max_col\n",
    "    print(col_width)\n",
    "    #print output\n",
    "    for i in range(len(data[0])):\n",
    "        for j in range(len(data)):\n",
    "            print(data[j][i].rjust(col_width[j]+1),end=\"\")\n",
    "            #print(data[j][i].rjust(col_width[i]),end='')\n",
    "        print(\"\")\n",
    "printTable(tableData)"
   ]
  },
  {
   "cell_type": "code",
   "execution_count": null,
   "metadata": {},
   "outputs": [],
   "source": []
  }
 ],
 "metadata": {
  "kernelspec": {
   "display_name": "Python 3",
   "language": "python",
   "name": "python3"
  },
  "language_info": {
   "codemirror_mode": {
    "name": "ipython",
    "version": 3
   },
   "file_extension": ".py",
   "mimetype": "text/x-python",
   "name": "python",
   "nbconvert_exporter": "python",
   "pygments_lexer": "ipython3",
   "version": "3.6.5"
  }
 },
 "nbformat": 4,
 "nbformat_minor": 2
}
